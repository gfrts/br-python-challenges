{
  "nbformat": 4,
  "nbformat_minor": 0,
  "metadata": {
    "anaconda-cloud": {},
    "colab": {
      "name": "Desafio 8.ipynb",
      "provenance": [],
      "include_colab_link": true
    },
    "kernelspec": {
      "display_name": "Python 3",
      "language": "python",
      "name": "python3"
    },
    "language_info": {
      "codemirror_mode": {
        "name": "ipython",
        "version": 3
      },
      "file_extension": ".py",
      "mimetype": "text/x-python",
      "name": "python",
      "nbconvert_exporter": "python",
      "pygments_lexer": "ipython3",
      "version": "3.7.9"
    }
  },
  "cells": [
    {
      "cell_type": "markdown",
      "metadata": {
        "id": "view-in-github",
        "colab_type": "text"
      },
      "source": [
        "<a href=\"https://colab.research.google.com/github/gfrts/br-python-challenges/blob/master/Desafio_08.ipynb\" target=\"_parent\"><img src=\"https://colab.research.google.com/assets/colab-badge.svg\" alt=\"Open In Colab\"/></a>"
      ]
    },
    {
      "cell_type": "markdown",
      "metadata": {
        "id": "o3tkeMDNf6Jo"
      },
      "source": [
        "### Desafio 8\n",
        "\n",
        "Escreva um script Python para encontrar as 10 palavras mais longas em um arquivo de texto.\n",
        "O arquivo .txt está localizado na mesma pasta do projeto (**texto.txt**)."
      ]
    },
    {
      "cell_type": "code",
      "metadata": {
        "colab": {
          "base_uri": "https://localhost:8080/"
        },
        "id": "EknxjSG0f6Jo",
        "outputId": "efd466ab-87a0-4e42-f640-d3ab8bef6507"
      },
      "source": [
        "!wget https://raw.githubusercontent.com/gfrts/br-python-challenges/master/texto.txt"
      ],
      "execution_count": 1,
      "outputs": [
        {
          "output_type": "stream",
          "text": [
            "--2021-04-19 04:19:45--  https://raw.githubusercontent.com/gfrts/br-python-challenges/master/texto.txt\n",
            "Resolving raw.githubusercontent.com (raw.githubusercontent.com)... 185.199.108.133, 185.199.109.133, 185.199.110.133, ...\n",
            "Connecting to raw.githubusercontent.com (raw.githubusercontent.com)|185.199.108.133|:443... connected.\n",
            "HTTP request sent, awaiting response... 200 OK\n",
            "Length: 766 [text/plain]\n",
            "Saving to: ‘texto.txt’\n",
            "\n",
            "\rtexto.txt             0%[                    ]       0  --.-KB/s               \rtexto.txt           100%[===================>]     766  --.-KB/s    in 0s      \n",
            "\n",
            "2021-04-19 04:19:45 (30.5 MB/s) - ‘texto.txt’ saved [766/766]\n",
            "\n"
          ],
          "name": "stdout"
        }
      ]
    },
    {
      "cell_type": "code",
      "metadata": {
        "id": "ZYbqEWBG5nKx"
      },
      "source": [
        "f = open('texto.txt', 'r')\n",
        "string_raw = f.read()\n",
        "#limpando caracteres desnecessarios, para ficar apenas palavras\n",
        "string_txt = string_raw.replace('\\n', ' ')\n",
        "string_txt = string_txt.replace('.', ' ')\n",
        "string_txt = string_txt.replace('?', '')\n",
        "string_txt = string_txt.replace(',','')\n",
        "string_txt = string_txt.replace(')','')\n",
        "string_txt = string_txt.replace('(','')\n",
        "#colocando todas as palavras em uma lista\n",
        "lista_de_palavras = string_txt.split()\n",
        "#transformando em set pra remover duplicados\n",
        "set_unico = set(lista_de_palavras)\n",
        "#criando lista com palavras unicas\n",
        "lista_unicas = list(set_unico)"
      ],
      "execution_count": 34,
      "outputs": []
    },
    {
      "cell_type": "code",
      "metadata": {
        "id": "X8ylgIdAgpOy",
        "outputId": "60511e4e-d84c-4fd2-afa6-9985726f7cf0",
        "colab": {
          "base_uri": "https://localhost:8080/"
        }
      },
      "source": [
        "maiores_palavras = []\n",
        "while len(maiores_palavras) < 10: \n",
        "  maiores_palavras.append(max(lista_unicas, key=len))\n",
        "  lista_unicas.remove(max(lista_unicas, key=len))\n",
        "\n",
        "maiores_palavras"
      ],
      "execution_count": 35,
      "outputs": [
        {
          "output_type": "execute_result",
          "data": {
            "text/plain": [
              "['object-oriented',\n",
              " 'general-purpose',\n",
              " 'comprehensive',\n",
              " 'intermediate',\n",
              " 'interpreted',\n",
              " 'programmers',\n",
              " 'programming',\n",
              " 'readability',\n",
              " 'imperative',\n",
              " 'emphasizes']"
            ]
          },
          "metadata": {
            "tags": []
          },
          "execution_count": 35
        }
      ]
    },
    {
      "cell_type": "code",
      "metadata": {
        "id": "mln4cEBehALV"
      },
      "source": [
        ""
      ],
      "execution_count": null,
      "outputs": []
    }
  ]
}