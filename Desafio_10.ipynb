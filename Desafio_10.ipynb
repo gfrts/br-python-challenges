{
  "nbformat": 4,
  "nbformat_minor": 0,
  "metadata": {
    "anaconda-cloud": {},
    "colab": {
      "name": "Desafio 10.ipynb",
      "provenance": [],
      "include_colab_link": true
    },
    "kernelspec": {
      "display_name": "Python 3",
      "language": "python",
      "name": "python3"
    },
    "language_info": {
      "codemirror_mode": {
        "name": "ipython",
        "version": 3
      },
      "file_extension": ".py",
      "mimetype": "text/x-python",
      "name": "python",
      "nbconvert_exporter": "python",
      "pygments_lexer": "ipython3",
      "version": "3.7.9"
    }
  },
  "cells": [
    {
      "cell_type": "markdown",
      "metadata": {
        "id": "view-in-github",
        "colab_type": "text"
      },
      "source": [
        "<a href=\"https://colab.research.google.com/github/gfrts/br-python-challenges/blob/master/Desafio_10.ipynb\" target=\"_parent\"><img src=\"https://colab.research.google.com/assets/colab-badge.svg\" alt=\"Open In Colab\"/></a>"
      ]
    },
    {
      "cell_type": "markdown",
      "metadata": {
        "id": "a4-FLDRof6Jv"
      },
      "source": [
        "### Desafio 10\n",
        "\n",
        "Dada uma lista, divida-a em 3 partes iguais e reverta a ordem de cada lista.\n",
        "\n",
        "**Exemplo:** \n",
        "\n",
        "Entrada: \\\n",
        "sampleList = [11, 45, 8, 23, 14, 12, 78, 45, 89]\n",
        "\n",
        "Saída: \\\n",
        "Parte 1 [8, 45, 11] \\\n",
        "Parte 2 [12, 14, 23] \\\n",
        "Parte 3 [89, 45, 78] "
      ]
    },
    {
      "cell_type": "code",
      "metadata": {
        "id": "IJ70pUjnf6Jw"
      },
      "source": [
        "def divide_3_reverte(lista):\n",
        "  lista_final = []\n",
        "  j = 0\n",
        "  aux = 0\n",
        "  for i in range(3, len(lista)+1, 3):\n",
        "    lista_final.append(lista[j:i])\n",
        "    lista_final[aux].reverse()\n",
        "    j = i\n",
        "    aux += 1\n",
        "  return lista_final"
      ],
      "execution_count": 16,
      "outputs": []
    },
    {
      "cell_type": "code",
      "metadata": {
        "colab": {
          "base_uri": "https://localhost:8080/"
        },
        "id": "pNrXNVqf8Wc1",
        "outputId": "856b0b4a-cbf7-4356-d25a-efb4d2143ade"
      },
      "source": [
        "sampleList = [11, 45, 8, 23, 14, 12, 78, 45, 89]\n",
        "sampleList2 = [8, 15, 58, 99, 0, 22, 45, 10, 152, 1, 3, 44]\n",
        "print(divide_3_reverte(sampleList))\n",
        "print(divide_3_reverte(sampleList2))"
      ],
      "execution_count": 17,
      "outputs": [
        {
          "output_type": "stream",
          "text": [
            "[[8, 45, 11], [12, 14, 23], [89, 45, 78]]\n",
            "[[58, 15, 8], [22, 0, 99], [152, 10, 45], [44, 3, 1]]\n"
          ],
          "name": "stdout"
        }
      ]
    },
    {
      "cell_type": "code",
      "metadata": {
        "id": "BIIEuMrKuIgd"
      },
      "source": [
        ""
      ],
      "execution_count": null,
      "outputs": []
    }
  ]
}