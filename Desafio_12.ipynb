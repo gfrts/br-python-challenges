{
  "nbformat": 4,
  "nbformat_minor": 0,
  "metadata": {
    "anaconda-cloud": {},
    "colab": {
      "name": "Desafio 12.ipynb",
      "provenance": [],
      "include_colab_link": true
    },
    "kernelspec": {
      "display_name": "Python 3",
      "language": "python",
      "name": "python3"
    },
    "language_info": {
      "codemirror_mode": {
        "name": "ipython",
        "version": 3
      },
      "file_extension": ".py",
      "mimetype": "text/x-python",
      "name": "python",
      "nbconvert_exporter": "python",
      "pygments_lexer": "ipython3",
      "version": "3.7.9"
    }
  },
  "cells": [
    {
      "cell_type": "markdown",
      "metadata": {
        "id": "view-in-github",
        "colab_type": "text"
      },
      "source": [
        "<a href=\"https://colab.research.google.com/github/gfrts/br-python-challenges/blob/master/Desafio_12.ipynb\" target=\"_parent\"><img src=\"https://colab.research.google.com/assets/colab-badge.svg\" alt=\"Open In Colab\"/></a>"
      ]
    },
    {
      "cell_type": "markdown",
      "metadata": {
        "id": "AYHY2YXQf6J2"
      },
      "source": [
        "### Desafio 12\n",
        "\n",
        "Escreva uma função em Python para verificar a validade de uma senha.\n",
        "\n",
        "A senha deve ter:\n",
        "\n",
        "* Pelo menos 1 letra entre [a-z] e 1 letra entre [A-Z].\n",
        "* Pelo menos 1 número entre [0-9].\n",
        "* Pelo menos 1 caractere de [$ # @].\n",
        "* Comprimento mínimo de 6 caracteres.\n",
        "* Comprimento máximo de 16 caracteres.\n",
        "\n",
        "Entradas: \"12345678\", \"J3sus0\", \"#Te5t300\", \"J*90j12374\", \"Michheeul\", \"Monk3y6\"\n",
        "\n",
        "A saída deve ser a senha e um texto indicando se a senha é válida ou inválida:\n",
        "\n",
        "```\n",
        "\"1234\" - Senha inválida\n",
        "\"Qw#1234\" - Senha válida\n",
        "```"
      ]
    },
    {
      "cell_type": "code",
      "metadata": {
        "id": "UGgtGYGGf6J3"
      },
      "source": [
        "import re\n",
        "\n",
        "def valida_senha(password):\n",
        "  num_lowercase_char = 1\n",
        "  num_uppercase_char = 1\n",
        "  num_numbers = 1\n",
        "  num_special_char = 1\n",
        "  min_len = 6\n",
        "  max_len = 16\n",
        "  special_chars = re.findall(r'[$#@]', password)\n",
        "  numbers_chars = re.findall(r'[\\d]', password)\n",
        "  lowercase_chars = re.findall(r'[a-z]', password)\n",
        "  uppercase_chars = re.findall(r'[A-Z]', password)\n",
        "  if(len(password) < min_len or len(password) > max_len):\n",
        "    return f\"{password} - Senha inválida\"\n",
        "  elif(len(special_chars) < 1):\n",
        "    return f\"{password} - Senha inválida\"\n",
        "  elif(len(numbers_chars) < 1):\n",
        "    return f\"{password} - Senha inválida\"\n",
        "  elif(len(lowercase_chars) < 1):\n",
        "    return f\"{password} - Senha inválida\"\n",
        "  elif(len(uppercase_chars) < 1):\n",
        "    return f\"{password} - Senha inválida\"\n",
        "  else:\n",
        "    return f\"{password} - Senha válida\""
      ],
      "execution_count": 5,
      "outputs": []
    },
    {
      "cell_type": "code",
      "metadata": {
        "id": "gIifH-AKppe8",
        "outputId": "8d91eb88-a2a6-49aa-a11c-300e0e22dc44",
        "colab": {
          "base_uri": "https://localhost:8080/"
        }
      },
      "source": [
        "print(valida_senha(\"12345678\"))\n",
        "print(valida_senha(\"J3sus0\"))\n",
        "print(valida_senha(\"#Te5t300\"))\n",
        "print(valida_senha(\"J*90j12374\"))\n",
        "print(valida_senha(\"Michheeul\"))\n",
        "print(valida_senha(\"Monk3y6\"))"
      ],
      "execution_count": 8,
      "outputs": [
        {
          "output_type": "stream",
          "text": [
            "12345678 - Senha inválida\n",
            "J3sus0 - Senha inválida\n",
            "#Te5t300 - Senha válida\n",
            "J*90j12374 - Senha inválida\n",
            "Michheeul - Senha inválida\n",
            "Monk3y6 - Senha inválida\n"
          ],
          "name": "stdout"
        }
      ]
    }
  ]
}